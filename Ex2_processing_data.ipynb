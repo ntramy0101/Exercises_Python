{
 "cells": [
  {
   "cell_type": "code",
   "execution_count": null,
   "metadata": {},
   "outputs": [],
   "source": [
    "'''\n",
    "Ex.2) Đọc file Data - Single Worksheet.xlsx và thực hiện các thống kê sau:\n",
    "    - Khảo sát xem file có bao nhiêu dòng, bao nhiêu côt?\n",
    "    - Xuất ra 3 dòng đầu của data để xem thử?\n",
    "    - Xuất ra list tên cột của data?\n",
    "    - Kiểm tra data có missing không? tính số lượng missing ở các cột tương ứng nếu có?\n",
    "    - Tạo một dataframe gồm 4 cột: city, số người, số lượng nam và số lượng nữ ở \n",
    "    tương ứng mỗi thành phố.\n",
    "    - Thêm cột tỉ lệ nam và nữ vào data vừa tạo.\n",
    "'''"
   ]
  },
  {
   "cell_type": "code",
   "execution_count": 15,
   "metadata": {},
   "outputs": [
    {
     "name": "stdout",
     "output_type": "stream",
     "text": [
      "   First Name Last Name           City Gender\n",
      "0     Brandon     James          Miami      M\n",
      "1        Sean   Hawkins         Denver      M\n",
      "2        Judy       Day    Los Angeles      F\n",
      "3      Ashley       NaN  San Francisco      F\n",
      "4   Stephanie     Gomez       Portland      F\n",
      "5         Tom     James          Miami      M\n",
      "6       Jerry   Hawkins         Denver      F\n",
      "7       Donal       NaN    Los Angeles      M\n",
      "8       Marry      Ruiz  San Francisco      F\n",
      "9       Shara     Gomez       Portland      F\n",
      "10      Cindy       Day          Miami      F\n",
      "11      Nazza      Ruiz         Denver      M\n"
     ]
    }
   ],
   "source": [
    "# Đọc file Data - Single Worksheet.xlsx\n",
    "import pandas as pd\n",
    "file_single_worksheet = pd.read_excel(r'D:\\MyNT_Exercises_Python\\DATA\\Data - Single Worksheet.xlsx')\n",
    "print(file_single_worksheet)"
   ]
  },
  {
   "cell_type": "code",
   "execution_count": 16,
   "metadata": {},
   "outputs": [
    {
     "data": {
      "text/plain": [
       "(12, 4)"
      ]
     },
     "execution_count": 16,
     "metadata": {},
     "output_type": "execute_result"
    }
   ],
   "source": [
    "# Thực hiện thống kê:\n",
    "# - Khảo sát xem file có bao nhiêu dòng, bao nhiêu côt?\n",
    "file_single_worksheet.shape"
   ]
  },
  {
   "cell_type": "code",
   "execution_count": 28,
   "metadata": {},
   "outputs": [
    {
     "data": {
      "text/html": [
       "<div>\n",
       "<style scoped>\n",
       "    .dataframe tbody tr th:only-of-type {\n",
       "        vertical-align: middle;\n",
       "    }\n",
       "\n",
       "    .dataframe tbody tr th {\n",
       "        vertical-align: top;\n",
       "    }\n",
       "\n",
       "    .dataframe thead th {\n",
       "        text-align: right;\n",
       "    }\n",
       "</style>\n",
       "<table border=\"1\" class=\"dataframe\">\n",
       "  <thead>\n",
       "    <tr style=\"text-align: right;\">\n",
       "      <th></th>\n",
       "      <th>First Name</th>\n",
       "      <th>Last Name</th>\n",
       "      <th>City</th>\n",
       "      <th>Gender</th>\n",
       "    </tr>\n",
       "  </thead>\n",
       "  <tbody>\n",
       "    <tr>\n",
       "      <th>0</th>\n",
       "      <td>Brandon</td>\n",
       "      <td>James</td>\n",
       "      <td>Miami</td>\n",
       "      <td>M</td>\n",
       "    </tr>\n",
       "    <tr>\n",
       "      <th>1</th>\n",
       "      <td>Sean</td>\n",
       "      <td>Hawkins</td>\n",
       "      <td>Denver</td>\n",
       "      <td>M</td>\n",
       "    </tr>\n",
       "    <tr>\n",
       "      <th>2</th>\n",
       "      <td>Judy</td>\n",
       "      <td>Day</td>\n",
       "      <td>Los Angeles</td>\n",
       "      <td>F</td>\n",
       "    </tr>\n",
       "  </tbody>\n",
       "</table>\n",
       "</div>"
      ],
      "text/plain": [
       "  First Name Last Name         City Gender\n",
       "0    Brandon     James        Miami      M\n",
       "1       Sean   Hawkins       Denver      M\n",
       "2       Judy       Day  Los Angeles      F"
      ]
     },
     "execution_count": 28,
     "metadata": {},
     "output_type": "execute_result"
    }
   ],
   "source": [
    "# - Xuất ra 3 dòng đầu của data để xem thử?\n",
    "# Hàm .head() mặc định sẽ hiển thị ra 5 quan sát đầu tiên của dataframe\n",
    "# In ra 3 dòng đầu: .head(n=3)\n",
    "file_single_worksheet.head(n=3)"
   ]
  },
  {
   "cell_type": "code",
   "execution_count": 57,
   "metadata": {},
   "outputs": [
    {
     "data": {
      "text/html": [
       "<div>\n",
       "<style scoped>\n",
       "    .dataframe tbody tr th:only-of-type {\n",
       "        vertical-align: middle;\n",
       "    }\n",
       "\n",
       "    .dataframe tbody tr th {\n",
       "        vertical-align: top;\n",
       "    }\n",
       "\n",
       "    .dataframe thead th {\n",
       "        text-align: right;\n",
       "    }\n",
       "</style>\n",
       "<table border=\"1\" class=\"dataframe\">\n",
       "  <thead>\n",
       "    <tr style=\"text-align: right;\">\n",
       "      <th></th>\n",
       "      <th>First Name</th>\n",
       "      <th>Last Name</th>\n",
       "      <th>City</th>\n",
       "      <th>Gender</th>\n",
       "    </tr>\n",
       "  </thead>\n",
       "  <tbody>\n",
       "    <tr>\n",
       "      <th>0</th>\n",
       "      <td>Brandon</td>\n",
       "      <td>James</td>\n",
       "      <td>Miami</td>\n",
       "      <td>M</td>\n",
       "    </tr>\n",
       "    <tr>\n",
       "      <th>1</th>\n",
       "      <td>Sean</td>\n",
       "      <td>Hawkins</td>\n",
       "      <td>Denver</td>\n",
       "      <td>M</td>\n",
       "    </tr>\n",
       "    <tr>\n",
       "      <th>2</th>\n",
       "      <td>Judy</td>\n",
       "      <td>Day</td>\n",
       "      <td>Los Angeles</td>\n",
       "      <td>F</td>\n",
       "    </tr>\n",
       "    <tr>\n",
       "      <th>3</th>\n",
       "      <td>Ashley</td>\n",
       "      <td>NaN</td>\n",
       "      <td>San Francisco</td>\n",
       "      <td>F</td>\n",
       "    </tr>\n",
       "    <tr>\n",
       "      <th>4</th>\n",
       "      <td>Stephanie</td>\n",
       "      <td>Gomez</td>\n",
       "      <td>Portland</td>\n",
       "      <td>F</td>\n",
       "    </tr>\n",
       "  </tbody>\n",
       "</table>\n",
       "</div>"
      ],
      "text/plain": [
       "  First Name Last Name           City Gender\n",
       "0    Brandon     James          Miami      M\n",
       "1       Sean   Hawkins         Denver      M\n",
       "2       Judy       Day    Los Angeles      F\n",
       "3     Ashley       NaN  San Francisco      F\n",
       "4  Stephanie     Gomez       Portland      F"
      ]
     },
     "execution_count": 57,
     "metadata": {},
     "output_type": "execute_result"
    }
   ],
   "source": [
    "# Hàm .head() mặc định sẽ hiển thị ra 5 quan sát đầu tiên của dataframe\n",
    "file_single_worksheet.head()"
   ]
  },
  {
   "cell_type": "code",
   "execution_count": 58,
   "metadata": {},
   "outputs": [
    {
     "data": {
      "text/html": [
       "<div>\n",
       "<style scoped>\n",
       "    .dataframe tbody tr th:only-of-type {\n",
       "        vertical-align: middle;\n",
       "    }\n",
       "\n",
       "    .dataframe tbody tr th {\n",
       "        vertical-align: top;\n",
       "    }\n",
       "\n",
       "    .dataframe thead th {\n",
       "        text-align: right;\n",
       "    }\n",
       "</style>\n",
       "<table border=\"1\" class=\"dataframe\">\n",
       "  <thead>\n",
       "    <tr style=\"text-align: right;\">\n",
       "      <th></th>\n",
       "      <th>First Name</th>\n",
       "      <th>Last Name</th>\n",
       "      <th>City</th>\n",
       "      <th>Gender</th>\n",
       "    </tr>\n",
       "  </thead>\n",
       "  <tbody>\n",
       "    <tr>\n",
       "      <th>11</th>\n",
       "      <td>Nazza</td>\n",
       "      <td>Ruiz</td>\n",
       "      <td>Denver</td>\n",
       "      <td>M</td>\n",
       "    </tr>\n",
       "  </tbody>\n",
       "</table>\n",
       "</div>"
      ],
      "text/plain": [
       "   First Name Last Name    City Gender\n",
       "11      Nazza      Ruiz  Denver      M"
      ]
     },
     "execution_count": 58,
     "metadata": {},
     "output_type": "execute_result"
    }
   ],
   "source": [
    "#.tail() hiển thị 5 mục cuối cùng (có chọn số lượng: .tail() (n=số lượng))\n",
    "file_single_worksheet.tail(n=1) "
   ]
  },
  {
   "cell_type": "code",
   "execution_count": 59,
   "metadata": {},
   "outputs": [
    {
     "data": {
      "text/html": [
       "<div>\n",
       "<style scoped>\n",
       "    .dataframe tbody tr th:only-of-type {\n",
       "        vertical-align: middle;\n",
       "    }\n",
       "\n",
       "    .dataframe tbody tr th {\n",
       "        vertical-align: top;\n",
       "    }\n",
       "\n",
       "    .dataframe thead th {\n",
       "        text-align: right;\n",
       "    }\n",
       "</style>\n",
       "<table border=\"1\" class=\"dataframe\">\n",
       "  <thead>\n",
       "    <tr style=\"text-align: right;\">\n",
       "      <th></th>\n",
       "      <th>First Name</th>\n",
       "      <th>Last Name</th>\n",
       "      <th>City</th>\n",
       "      <th>Gender</th>\n",
       "    </tr>\n",
       "  </thead>\n",
       "  <tbody>\n",
       "    <tr>\n",
       "      <th>8</th>\n",
       "      <td>Marry</td>\n",
       "      <td>Ruiz</td>\n",
       "      <td>San Francisco</td>\n",
       "      <td>F</td>\n",
       "    </tr>\n",
       "  </tbody>\n",
       "</table>\n",
       "</div>"
      ],
      "text/plain": [
       "  First Name Last Name           City Gender\n",
       "8      Marry      Ruiz  San Francisco      F"
      ]
     },
     "execution_count": 59,
     "metadata": {},
     "output_type": "execute_result"
    }
   ],
   "source": [
    "#.sample() hiển thị một mục ngẫu nhiên cuối cùng (có chọn số lượng: .sample (n=số lượng))\n",
    "file_single_worksheet.sample()"
   ]
  },
  {
   "cell_type": "code",
   "execution_count": 62,
   "metadata": {},
   "outputs": [
    {
     "name": "stdout",
     "output_type": "stream",
     "text": [
      "<class 'pandas.core.frame.DataFrame'>\n",
      "RangeIndex: 12 entries, 0 to 11\n",
      "Data columns (total 4 columns):\n",
      " #   Column      Non-Null Count  Dtype \n",
      "---  ------      --------------  ----- \n",
      " 0   First Name  12 non-null     object\n",
      " 1   Last Name   10 non-null     object\n",
      " 2   City        12 non-null     object\n",
      " 3   Gender      12 non-null     object\n",
      "dtypes: object(4)\n",
      "memory usage: 512.0+ bytes\n"
     ]
    }
   ],
   "source": [
    "#Hàm df.info() sẽ cho ta biết định dạng và số lượng quan sát not-null của mỗi trường trong dataframe.\n",
    "file_single_worksheet.info()"
   ]
  },
  {
   "cell_type": "code",
   "execution_count": 68,
   "metadata": {},
   "outputs": [
    {
     "data": {
      "text/plain": [
       "['First Name', 'Last Name', 'City', 'Gender']"
      ]
     },
     "execution_count": 68,
     "metadata": {},
     "output_type": "execute_result"
    }
   ],
   "source": [
    "# - Xuất ra list tên cột của data?\n",
    "list(file_single_worksheet.columns)"
   ]
  },
  {
   "cell_type": "code",
   "execution_count": 1,
   "metadata": {},
   "outputs": [
    {
     "name": "stdout",
     "output_type": "stream",
     "text": [
      "            City  Number_of_people  Number_of_male  Number_of_female\n",
      "0         Denver                 3               2                 1\n",
      "1    Los Angeles                 2               1                 1\n",
      "2          Miami                 3               2                 1\n",
      "3       Portland                 2               0                 2\n",
      "4  San Francisco                 2               0                 2\n"
     ]
    },
    {
     "ename": "NameError",
     "evalue": "name 'df' is not defined",
     "output_type": "error",
     "traceback": [
      "\u001b[1;31m---------------------------------------------------------------------------\u001b[0m",
      "\u001b[1;31mNameError\u001b[0m                                 Traceback (most recent call last)",
      "\u001b[1;32md:\\MyNT_Exercises_Python\\Ex2_processing_data.ipynb Cell 10\u001b[0m line \u001b[0;36m4\n\u001b[0;32m     <a href='vscode-notebook-cell:/d%3A/MyNT_Exercises_Python/Ex2_processing_data.ipynb#X12sZmlsZQ%3D%3D?line=36'>37</a>\u001b[0m \u001b[39m'''\u001b[39;00m\n\u001b[0;32m     <a href='vscode-notebook-cell:/d%3A/MyNT_Exercises_Python/Ex2_processing_data.ipynb#X12sZmlsZQ%3D%3D?line=37'>38</a>\u001b[0m \u001b[39mdata_frame = pd.DataFrame({'col_1': [2, 3, 4, 5]})\u001b[39;00m\n\u001b[0;32m     <a href='vscode-notebook-cell:/d%3A/MyNT_Exercises_Python/Ex2_processing_data.ipynb#X12sZmlsZQ%3D%3D?line=38'>39</a>\u001b[0m \u001b[39msheet_names = ['New_Data_Frame']\u001b[39;00m\n\u001b[1;32m   (...)\u001b[0m\n\u001b[0;32m     <a href='vscode-notebook-cell:/d%3A/MyNT_Exercises_Python/Ex2_processing_data.ipynb#X12sZmlsZQ%3D%3D?line=42'>43</a>\u001b[0m \u001b[39m       df.to_excel(writer, New_Data_Frame)\u001b[39;00m\n\u001b[0;32m     <a href='vscode-notebook-cell:/d%3A/MyNT_Exercises_Python/Ex2_processing_data.ipynb#X12sZmlsZQ%3D%3D?line=43'>44</a>\u001b[0m \u001b[39m'''\u001b[39;00m\n\u001b[0;32m     <a href='vscode-notebook-cell:/d%3A/MyNT_Exercises_Python/Ex2_processing_data.ipynb#X12sZmlsZQ%3D%3D?line=44'>45</a>\u001b[0m        \u001b[39m#df.to_excel(output_file_path+\"new_Data - Single Worksheet.xlsx\")\u001b[39;00m\n\u001b[0;32m     <a href='vscode-notebook-cell:/d%3A/MyNT_Exercises_Python/Ex2_processing_data.ipynb#X12sZmlsZQ%3D%3D?line=45'>46</a>\u001b[0m \n\u001b[0;32m     <a href='vscode-notebook-cell:/d%3A/MyNT_Exercises_Python/Ex2_processing_data.ipynb#X12sZmlsZQ%3D%3D?line=46'>47</a>\u001b[0m        \u001b[39m# Lưu file excel\u001b[39;00m\n\u001b[1;32m---> <a href='vscode-notebook-cell:/d%3A/MyNT_Exercises_Python/Ex2_processing_data.ipynb#X12sZmlsZQ%3D%3D?line=47'>48</a>\u001b[0m df\u001b[39m.\u001b[39mto_excel(\u001b[39m'\u001b[39m\u001b[39mnew_Data - Single Worksheet.xlsx\u001b[39m\u001b[39m'\u001b[39m, index \u001b[39m=\u001b[39m \u001b[39mFalse\u001b[39;00m)\n",
      "\u001b[1;31mNameError\u001b[0m: name 'df' is not defined"
     ]
    }
   ],
   "source": [
    " # - Tạo một dataframe gồm 4 cột: city, số người, số lượng nam và số lượng nữ ở tương ứng mỗi thành phố.\n",
    " # Đọc dữ liệu từ file excel, nếu có nhiều sheet thì sử dụng:\n",
    " # df = pd.read_excel('path_to_excel_file.xlsx', sheet_name='sheet_name')\n",
    "# Thay đổi 'path_to_excel_file.xlsx' thành đường dẫn đến tệp Excel của bạn\n",
    "# và 'sheet_name' thành tên của sheet chứa dữ liệu\n",
    "# Đọc dữ liệu từ file excel\n",
    "\n",
    " import pandas as pd\n",
    " import os\n",
    "\n",
    " #Dường dẫn đến tệp Excel\n",
    " file_path = \"Data - Single Worksheet.xlsx\"\n",
    "sheet_name = \"New_Data_Frame\"\n",
    " # Đọc dữ liệu từ file excel\n",
    " data_frame = pd.read_excel(\"Data - Single Worksheet.xlsx\")   \n",
    "#Sử dụng groupby và agg để tổng hợp dữ liệu theo thành phố\n",
    "# Ta sẽ tính tổng số người, số lượng  nam và số lượng nữ cho mỗi thành phố, lambda là một biểu thức hàm vô danh, sử dụng đơn giản không cần đặt tên\n",
    "result_data_frame = data_frame.groupby('City').agg(\n",
    "    Number_of_people = ('Gender', 'size'),    # tính tổng số lượng người trong một thành phố\n",
    "    Number_of_male = ('Gender', lambda x: (x == 'M').sum()),   #đếm số lượng nam trong thành phố\n",
    "    Number_of_female = ('Gender', lambda x: (x == 'F').sum())  #đếm số lượng nữ trong thành phố\n",
    ").reset_index()    #reset index để làm cho Dataframe mới trông gọn hơn\n",
    "\n",
    "#in kết quả ra màn hình\n",
    "print(result_data_frame)\n",
    "\n",
    "'''\n",
    "# Ghi dữ liệu vào file excel mới tạo\n",
    "writer = pd.ExcelWriter('mul_sheets.xlsx', mode='w', engine='openpyxl')\n",
    "data_frame.to_excel(writer, sheet_name='New_Data_Frame')\n",
    "'''\n",
    "'''\n",
    "data_frame = pd.DataFrame({'col_1': [2, 3, 4, 5]})\n",
    "sheet_names = ['New_Data_Frame']\n",
    "\n",
    "with pd.ExcelWriter('mul_sheets.xlsx', mode='a', if_sheet_exists='new', engine='openpyxl') as writer:\n",
    "    for df, sheet_name in execfile([data_frame], New_Data_Frame):\n",
    "        df.to_excel(writer, New_Data_Frame)\n",
    "'''\n",
    "        #df.to_excel(output_file_path+\"new_Data - Single Worksheet.xlsx\")\n",
    "\n",
    "        # Lưu file excel\n",
    "df.to_excel('new_Data - Single Worksheet.xlsx', index = False)"
   ]
  },
  {
   "cell_type": "code",
   "execution_count": 24,
   "metadata": {},
   "outputs": [
    {
     "ename": "KeyError",
     "evalue": "'Number_of_male'",
     "output_type": "error",
     "traceback": [
      "\u001b[1;31m---------------------------------------------------------------------------\u001b[0m",
      "\u001b[1;31mKeyError\u001b[0m                                  Traceback (most recent call last)",
      "File \u001b[1;32mc:\\Users\\User\\AppData\\Local\\Programs\\Python\\Python310\\lib\\site-packages\\pandas\\core\\indexes\\base.py:3790\u001b[0m, in \u001b[0;36mIndex.get_loc\u001b[1;34m(self, key)\u001b[0m\n\u001b[0;32m   3789\u001b[0m \u001b[39mtry\u001b[39;00m:\n\u001b[1;32m-> 3790\u001b[0m     \u001b[39mreturn\u001b[39;00m \u001b[39mself\u001b[39;49m\u001b[39m.\u001b[39;49m_engine\u001b[39m.\u001b[39;49mget_loc(casted_key)\n\u001b[0;32m   3791\u001b[0m \u001b[39mexcept\u001b[39;00m \u001b[39mKeyError\u001b[39;00m \u001b[39mas\u001b[39;00m err:\n",
      "File \u001b[1;32mindex.pyx:152\u001b[0m, in \u001b[0;36mpandas._libs.index.IndexEngine.get_loc\u001b[1;34m()\u001b[0m\n",
      "File \u001b[1;32mindex.pyx:181\u001b[0m, in \u001b[0;36mpandas._libs.index.IndexEngine.get_loc\u001b[1;34m()\u001b[0m\n",
      "File \u001b[1;32mpandas\\_libs\\hashtable_class_helper.pxi:7080\u001b[0m, in \u001b[0;36mpandas._libs.hashtable.PyObjectHashTable.get_item\u001b[1;34m()\u001b[0m\n",
      "File \u001b[1;32mpandas\\_libs\\hashtable_class_helper.pxi:7088\u001b[0m, in \u001b[0;36mpandas._libs.hashtable.PyObjectHashTable.get_item\u001b[1;34m()\u001b[0m\n",
      "\u001b[1;31mKeyError\u001b[0m: 'Number_of_male'",
      "\nThe above exception was the direct cause of the following exception:\n",
      "\u001b[1;31mKeyError\u001b[0m                                  Traceback (most recent call last)",
      "\u001b[1;32md:\\MyNT_Exercises_Python\\Ex2_processing_data.ipynb Cell 11\u001b[0m line \u001b[0;36m9\n\u001b[0;32m      <a href='vscode-notebook-cell:/d%3A/MyNT_Exercises_Python/Ex2_processing_data.ipynb#X13sZmlsZQ%3D%3D?line=5'>6</a>\u001b[0m data_frame \u001b[39m=\u001b[39m pd\u001b[39m.\u001b[39mread_excel(\u001b[39m\"\u001b[39m\u001b[39mnew_Data - Single Worksheet.xlsx\u001b[39m\u001b[39m\"\u001b[39m)\n\u001b[0;32m      <a href='vscode-notebook-cell:/d%3A/MyNT_Exercises_Python/Ex2_processing_data.ipynb#X13sZmlsZQ%3D%3D?line=7'>8</a>\u001b[0m \u001b[39m# Thêm cột tỉ lệ nam và tỉ lệ nữ\u001b[39;00m\n\u001b[1;32m----> <a href='vscode-notebook-cell:/d%3A/MyNT_Exercises_Python/Ex2_processing_data.ipynb#X13sZmlsZQ%3D%3D?line=8'>9</a>\u001b[0m data_frame[\u001b[39m'\u001b[39m\u001b[39mMale Percentage\u001b[39m\u001b[39m'\u001b[39m] \u001b[39m=\u001b[39m (data_frame[\u001b[39m'\u001b[39;49m\u001b[39mNumber_of_male\u001b[39;49m\u001b[39m'\u001b[39;49m] \u001b[39m/\u001b[39m data_frame[\u001b[39m'\u001b[39m\u001b[39mNumber_of_people\u001b[39m\u001b[39m'\u001b[39m]) \u001b[39m*\u001b[39m \u001b[39m100\u001b[39m\n\u001b[0;32m     <a href='vscode-notebook-cell:/d%3A/MyNT_Exercises_Python/Ex2_processing_data.ipynb#X13sZmlsZQ%3D%3D?line=9'>10</a>\u001b[0m data_frame[\u001b[39m'\u001b[39m\u001b[39mFemale Percentage\u001b[39m\u001b[39m'\u001b[39m] \u001b[39m=\u001b[39m (data_frame[\u001b[39m'\u001b[39m\u001b[39mNumber_of_female\u001b[39m\u001b[39m'\u001b[39m] \u001b[39m/\u001b[39m data_frame[\u001b[39m'\u001b[39m\u001b[39mNumber_of_people\u001b[39m\u001b[39m'\u001b[39m]) \u001b[39m*\u001b[39m \u001b[39m100\u001b[39m\n\u001b[0;32m     <a href='vscode-notebook-cell:/d%3A/MyNT_Exercises_Python/Ex2_processing_data.ipynb#X13sZmlsZQ%3D%3D?line=11'>12</a>\u001b[0m \u001b[39m# Ghi dữ liệu vào file Excel\u001b[39;00m\n\u001b[0;32m     <a href='vscode-notebook-cell:/d%3A/MyNT_Exercises_Python/Ex2_processing_data.ipynb#X13sZmlsZQ%3D%3D?line=12'>13</a>\u001b[0m \u001b[39m#with pd.ExcelWriter('Data - Single Worksheet.xlsx', engine='openpyxl', mode='a') as writer:\u001b[39;00m\n\u001b[0;32m     <a href='vscode-notebook-cell:/d%3A/MyNT_Exercises_Python/Ex2_processing_data.ipynb#X13sZmlsZQ%3D%3D?line=13'>14</a>\u001b[0m  \u001b[39m#   data_frame.to_excel(writer, sheet_name='New_Data_Frame', index=False)\u001b[39;00m\n",
      "File \u001b[1;32mc:\\Users\\User\\AppData\\Local\\Programs\\Python\\Python310\\lib\\site-packages\\pandas\\core\\frame.py:3896\u001b[0m, in \u001b[0;36mDataFrame.__getitem__\u001b[1;34m(self, key)\u001b[0m\n\u001b[0;32m   3894\u001b[0m \u001b[39mif\u001b[39;00m \u001b[39mself\u001b[39m\u001b[39m.\u001b[39mcolumns\u001b[39m.\u001b[39mnlevels \u001b[39m>\u001b[39m \u001b[39m1\u001b[39m:\n\u001b[0;32m   3895\u001b[0m     \u001b[39mreturn\u001b[39;00m \u001b[39mself\u001b[39m\u001b[39m.\u001b[39m_getitem_multilevel(key)\n\u001b[1;32m-> 3896\u001b[0m indexer \u001b[39m=\u001b[39m \u001b[39mself\u001b[39;49m\u001b[39m.\u001b[39;49mcolumns\u001b[39m.\u001b[39;49mget_loc(key)\n\u001b[0;32m   3897\u001b[0m \u001b[39mif\u001b[39;00m is_integer(indexer):\n\u001b[0;32m   3898\u001b[0m     indexer \u001b[39m=\u001b[39m [indexer]\n",
      "File \u001b[1;32mc:\\Users\\User\\AppData\\Local\\Programs\\Python\\Python310\\lib\\site-packages\\pandas\\core\\indexes\\base.py:3797\u001b[0m, in \u001b[0;36mIndex.get_loc\u001b[1;34m(self, key)\u001b[0m\n\u001b[0;32m   3792\u001b[0m     \u001b[39mif\u001b[39;00m \u001b[39misinstance\u001b[39m(casted_key, \u001b[39mslice\u001b[39m) \u001b[39mor\u001b[39;00m (\n\u001b[0;32m   3793\u001b[0m         \u001b[39misinstance\u001b[39m(casted_key, abc\u001b[39m.\u001b[39mIterable)\n\u001b[0;32m   3794\u001b[0m         \u001b[39mand\u001b[39;00m \u001b[39many\u001b[39m(\u001b[39misinstance\u001b[39m(x, \u001b[39mslice\u001b[39m) \u001b[39mfor\u001b[39;00m x \u001b[39min\u001b[39;00m casted_key)\n\u001b[0;32m   3795\u001b[0m     ):\n\u001b[0;32m   3796\u001b[0m         \u001b[39mraise\u001b[39;00m InvalidIndexError(key)\n\u001b[1;32m-> 3797\u001b[0m     \u001b[39mraise\u001b[39;00m \u001b[39mKeyError\u001b[39;00m(key) \u001b[39mfrom\u001b[39;00m \u001b[39merr\u001b[39;00m\n\u001b[0;32m   3798\u001b[0m \u001b[39mexcept\u001b[39;00m \u001b[39mTypeError\u001b[39;00m:\n\u001b[0;32m   3799\u001b[0m     \u001b[39m# If we have a listlike key, _check_indexing_error will raise\u001b[39;00m\n\u001b[0;32m   3800\u001b[0m     \u001b[39m#  InvalidIndexError. Otherwise we fall through and re-raise\u001b[39;00m\n\u001b[0;32m   3801\u001b[0m     \u001b[39m#  the TypeError.\u001b[39;00m\n\u001b[0;32m   3802\u001b[0m     \u001b[39mself\u001b[39m\u001b[39m.\u001b[39m_check_indexing_error(key)\n",
      "\u001b[1;31mKeyError\u001b[0m: 'Number_of_male'"
     ]
    }
   ],
   "source": [
    "# - Thêm cột tỉ lệ nam và nữ vào data vừa tạo.\n",
    "\n",
    "import pandas as pd\n",
    "\n",
    "# Đọc dữ liệu từ file Excel\n",
    "data_frame = pd.read_excel(\"new_Data - Single Worksheet.xlsx\")\n",
    "\n",
    "# Thêm cột tỉ lệ nam và tỉ lệ nữ\n",
    "data_frame['Male Percentage'] = (data_frame['Number_of_male'] / data_frame['Number_of_people']) * 100\n",
    "data_frame['Female Percentage'] = (data_frame['Number_of_female'] / data_frame['Number_of_people']) * 100\n",
    "\n",
    "# Ghi dữ liệu vào file Excel\n",
    "#with pd.ExcelWriter('Data - Single Worksheet.xlsx', engine='openpyxl', mode='a') as writer:\n",
    " #   data_frame.to_excel(writer, sheet_name='New_Data_Frame', index=False)\n"
   ]
  }
 ],
 "metadata": {
  "kernelspec": {
   "display_name": "Python 3",
   "language": "python",
   "name": "python3"
  },
  "language_info": {
   "codemirror_mode": {
    "name": "ipython",
    "version": 3
   },
   "file_extension": ".py",
   "mimetype": "text/x-python",
   "name": "python",
   "nbconvert_exporter": "python",
   "pygments_lexer": "ipython3",
   "version": "3.10.7"
  }
 },
 "nbformat": 4,
 "nbformat_minor": 2
}
